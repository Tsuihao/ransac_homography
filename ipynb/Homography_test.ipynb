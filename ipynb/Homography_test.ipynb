{
 "cells": [
  {
   "cell_type": "code",
   "execution_count": 1,
   "metadata": {},
   "outputs": [],
   "source": [
    "import cv2\n",
    "import matplotlib\n",
    "from random import randint\n",
    "import numpy as np"
   ]
  },
  {
   "cell_type": "markdown",
   "metadata": {},
   "source": [
    "## pts_dst = pts_src * H_gt"
   ]
  },
  {
   "cell_type": "code",
   "execution_count": 2,
   "metadata": {},
   "outputs": [],
   "source": [
    "pts_src = np.array([[141, 131], [480, 159], [493, 630],[64, 601]])"
   ]
  },
  {
   "cell_type": "code",
   "execution_count": 3,
   "metadata": {},
   "outputs": [],
   "source": [
    "h_gt = np.random.randint(10, size=(3,3))"
   ]
  },
  {
   "cell_type": "code",
   "execution_count": 4,
   "metadata": {},
   "outputs": [],
   "source": [
    "h_gt[2][2] = 1  # make the scale factor to 1\n",
    "h_gt[2][0] = 0.1\n",
    "h_gt[2][1] = 0.5"
   ]
  },
  {
   "cell_type": "code",
   "execution_count": 5,
   "metadata": {},
   "outputs": [],
   "source": [
    "pts_homog = [np.append(pt,1) for pt in pts_src]  # extend to homogenous coordinate\n",
    "pts_homog = np.asarray(pts_homog)"
   ]
  },
  {
   "cell_type": "code",
   "execution_count": 6,
   "metadata": {},
   "outputs": [],
   "source": [
    "pts_homog = np.transpose(pts_homog)\n",
    "pts_dts_gt_homog = np.matmul(h_gt,pts_homog)\n",
    "pts_dts_gt_homog = np.transpose(pts_dts_gt_homog)"
   ]
  },
  {
   "cell_type": "code",
   "execution_count": 7,
   "metadata": {},
   "outputs": [],
   "source": [
    "pts_dst_gt = [np.array([pt[0]/pt[2], pt[1]/pt[2]]) for pt in pts_dts_gt_homog] # convert back to pixcel coordinate\n",
    "pts_dst_gt = np.asarray(pts_dst_gt)"
   ]
  },
  {
   "cell_type": "code",
   "execution_count": 8,
   "metadata": {},
   "outputs": [
    {
     "data": {
      "text/plain": [
       "array([[ 525., 1533.],\n",
       "       [ 637., 4640.],\n",
       "       [2521., 5699.],\n",
       "       [2405., 1780.]])"
      ]
     },
     "execution_count": 8,
     "metadata": {},
     "output_type": "execute_result"
    }
   ],
   "source": [
    "pts_dst_gt"
   ]
  },
  {
   "cell_type": "code",
   "execution_count": 9,
   "metadata": {},
   "outputs": [],
   "source": [
    "h, status = cv2.findHomography(pts_src, pts_dst_gt)"
   ]
  },
  {
   "cell_type": "code",
   "execution_count": 10,
   "metadata": {},
   "outputs": [
    {
     "data": {
      "text/plain": [
       "array([[1.68397545e-16, 4.00000000e+00, 1.00000000e+00],\n",
       "       [9.00000000e+00, 2.00000000e+00, 2.00000000e+00],\n",
       "       [7.49889187e-20, 3.27287728e-19, 1.00000000e+00]])"
      ]
     },
     "execution_count": 10,
     "metadata": {},
     "output_type": "execute_result"
    }
   ],
   "source": [
    "# the result should be same as h_gt\n",
    "h"
   ]
  },
  {
   "cell_type": "code",
   "execution_count": 11,
   "metadata": {},
   "outputs": [
    {
     "data": {
      "text/plain": [
       "array([[0, 4, 1],\n",
       "       [9, 2, 2],\n",
       "       [0, 0, 1]])"
      ]
     },
     "execution_count": 11,
     "metadata": {},
     "output_type": "execute_result"
    }
   ],
   "source": [
    "h_gt"
   ]
  },
  {
   "cell_type": "code",
   "execution_count": null,
   "metadata": {},
   "outputs": [],
   "source": [
    "'''\n",
    "array([[3, 7, 4],              \n",
    "       [5, 7, 4],\n",
    "       [6, 3, 1]])\n",
    "\n",
    "array([[ -6.26997755, -14.62459637,  -4.9216654 ],\n",
    "       [-10.44768729, -14.62565906,  -4.23447605],\n",
    "       [-12.53458838,  -6.27018818,   1.        ]])\n",
    "       \n",
    "'''"
   ]
  },
  {
   "cell_type": "code",
   "execution_count": null,
   "metadata": {},
   "outputs": [],
   "source": [
    "'''\n",
    "array([[0, 1, 9],\n",
    "       [3, 2, 7],\n",
    "       [7, 3, 1]])\n",
    "\n",
    "array([[1.05613321e-04, 1.68869009e+00, 1.51246675e+01],\n",
    "       [5.06619167e+00, 3.37769100e+00, 1.14730577e+01],\n",
    "       [1.18209380e+01, 5.06679471e+00, 1.00000000e+00]])\n",
    "\n",
    "'''"
   ]
  },
  {
   "cell_type": "markdown",
   "metadata": {},
   "source": [
    "The observation is that when the \"H[2][0] and H[2][1]\" are too big (heavily scale) the matrix, the result will be bad"
   ]
  },
  {
   "cell_type": "code",
   "execution_count": null,
   "metadata": {},
   "outputs": [],
   "source": []
  }
 ],
 "metadata": {
  "kernelspec": {
   "display_name": "Python 3",
   "language": "python",
   "name": "python3"
  },
  "language_info": {
   "codemirror_mode": {
    "name": "ipython",
    "version": 3
   },
   "file_extension": ".py",
   "mimetype": "text/x-python",
   "name": "python",
   "nbconvert_exporter": "python",
   "pygments_lexer": "ipython3",
   "version": "3.7.6"
  }
 },
 "nbformat": 4,
 "nbformat_minor": 4
}
